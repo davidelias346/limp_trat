{
 "cells": [
  {
   "cell_type": "code",
   "execution_count": 11,
   "id": "1176b706-7e19-4182-8975-42c40538f17b",
   "metadata": {},
   "outputs": [],
   "source": [
    "#Aparência: sol, nublado, chuva\n",
    "#Temperatura: -135 ~ 130 F\n",
    "#Umidade: 0 ~ 100\n",
    "#Jogar: sim/nao\n",
    "#Tratar valores NAs\n",
    "\n"
   ]
  },
  {
   "cell_type": "code",
   "execution_count": null,
   "id": "88134d86-f926-4fe7-8796-7f145bfe7abf",
   "metadata": {},
   "outputs": [],
   "source": [
    "#Declarando as libs\n",
    "import pandas as pd\n",
    "import statistics  as sts"
   ]
  },
  {
   "cell_type": "code",
   "execution_count": 89,
   "id": "fae11bcf-03f3-4d4a-9d9d-916610c8b0af",
   "metadata": {},
   "outputs": [
    {
     "data": {
      "text/html": [
       "<div>\n",
       "<style scoped>\n",
       "    .dataframe tbody tr th:only-of-type {\n",
       "        vertical-align: middle;\n",
       "    }\n",
       "\n",
       "    .dataframe tbody tr th {\n",
       "        vertical-align: top;\n",
       "    }\n",
       "\n",
       "    .dataframe thead th {\n",
       "        text-align: right;\n",
       "    }\n",
       "</style>\n",
       "<table border=\"1\" class=\"dataframe\">\n",
       "  <thead>\n",
       "    <tr style=\"text-align: right;\">\n",
       "      <th></th>\n",
       "      <th>Aparencia</th>\n",
       "      <th>Temperatura</th>\n",
       "      <th>Umidade</th>\n",
       "      <th>Vento</th>\n",
       "      <th>Jogar</th>\n",
       "    </tr>\n",
       "  </thead>\n",
       "  <tbody>\n",
       "    <tr>\n",
       "      <th>0</th>\n",
       "      <td>sol</td>\n",
       "      <td>85</td>\n",
       "      <td>85.0</td>\n",
       "      <td>FALSO</td>\n",
       "      <td>nao</td>\n",
       "    </tr>\n",
       "    <tr>\n",
       "      <th>1</th>\n",
       "      <td>sol</td>\n",
       "      <td>80</td>\n",
       "      <td>90.0</td>\n",
       "      <td>VERDADEIRO</td>\n",
       "      <td>nao</td>\n",
       "    </tr>\n",
       "    <tr>\n",
       "      <th>2</th>\n",
       "      <td>nublado</td>\n",
       "      <td>83</td>\n",
       "      <td>86.0</td>\n",
       "      <td>FALSO</td>\n",
       "      <td>sim</td>\n",
       "    </tr>\n",
       "    <tr>\n",
       "      <th>3</th>\n",
       "      <td>chuva</td>\n",
       "      <td>70</td>\n",
       "      <td>NaN</td>\n",
       "      <td>FALSO</td>\n",
       "      <td>sim</td>\n",
       "    </tr>\n",
       "    <tr>\n",
       "      <th>4</th>\n",
       "      <td>chuva</td>\n",
       "      <td>68</td>\n",
       "      <td>80.0</td>\n",
       "      <td>FALSO</td>\n",
       "      <td>sim</td>\n",
       "    </tr>\n",
       "  </tbody>\n",
       "</table>\n",
       "</div>"
      ],
      "text/plain": [
       "  Aparencia  Temperatura  Umidade       Vento Jogar\n",
       "0       sol           85     85.0       FALSO   nao\n",
       "1       sol           80     90.0  VERDADEIRO   nao\n",
       "2   nublado           83     86.0       FALSO   sim\n",
       "3     chuva           70      NaN       FALSO   sim\n",
       "4     chuva           68     80.0       FALSO   sim"
      ]
     },
     "execution_count": 89,
     "metadata": {},
     "output_type": "execute_result"
    }
   ],
   "source": [
    "#Importando os dados externos\n",
    "dados = pd.read_csv(\"tempo.csv\", sep=\";\")\n",
    "#visualizar\n",
    "dados.head()"
   ]
  },
  {
   "cell_type": "code",
   "execution_count": 90,
   "id": "58ec29c5-dff6-4a98-aaa6-865618942803",
   "metadata": {},
   "outputs": [
    {
     "data": {
      "text/plain": [
       "Aparencia      0\n",
       "Temperatura    0\n",
       "Umidade        1\n",
       "Vento          1\n",
       "Jogar          0\n",
       "dtype: int64"
      ]
     },
     "execution_count": 90,
     "metadata": {},
     "output_type": "execute_result"
    }
   ],
   "source": [
    "#Verificando Valores nulos\n",
    "dados.isnull().sum()\n"
   ]
  },
  {
   "cell_type": "code",
   "execution_count": 91,
   "id": "ac9c7701-ec05-475c-be46-496b081df01c",
   "metadata": {},
   "outputs": [
    {
     "data": {
      "text/plain": [
       "85.5"
      ]
     },
     "execution_count": 91,
     "metadata": {},
     "output_type": "execute_result"
    }
   ],
   "source": [
    "med_umidade = sts.median(dados['Umidade'])\n",
    "med_umidade\n",
    "\n"
   ]
  },
  {
   "cell_type": "code",
   "execution_count": 92,
   "id": "e5bd5f3c-c2e1-42ba-a1ca-7a091eac0900",
   "metadata": {},
   "outputs": [],
   "source": [
    "#Substituindo NAN da coluna 'Umidade' por mediana\n",
    "dados['Umidade'].fillna(med_umidade, inplace=True)"
   ]
  },
  {
   "cell_type": "code",
   "execution_count": 93,
   "id": "bde93175-c827-47b6-93bb-7e54c3afbb45",
   "metadata": {},
   "outputs": [
    {
     "data": {
      "text/plain": [
       "Aparencia      0\n",
       "Temperatura    0\n",
       "Umidade        0\n",
       "Vento          1\n",
       "Jogar          0\n",
       "dtype: int64"
      ]
     },
     "execution_count": 93,
     "metadata": {},
     "output_type": "execute_result"
    }
   ],
   "source": [
    "#Validando se foi substituído\n",
    "dados.isnull().sum()"
   ]
  },
  {
   "cell_type": "code",
   "execution_count": 94,
   "id": "7ac76041-f1ad-4b89-ad8d-8d3bb5d522dc",
   "metadata": {},
   "outputs": [
    {
     "data": {
      "text/plain": [
       "'FALSO'"
      ]
     },
     "execution_count": 94,
     "metadata": {},
     "output_type": "execute_result"
    }
   ],
   "source": [
    "##Substituindo NAN da coluna 'Vento' por moda\n",
    "moda_vento = sts.mode(dados['Vento'])\n",
    "moda_vento"
   ]
  },
  {
   "cell_type": "code",
   "execution_count": 95,
   "id": "ebedb769-3b52-49eb-be71-2d313bb789e9",
   "metadata": {},
   "outputs": [],
   "source": [
    "dados['Vento'].fillna(moda_vento, inplace=True)"
   ]
  },
  {
   "cell_type": "code",
   "execution_count": 96,
   "id": "ede022ac-bc34-4bb4-b3a4-9c8c78e5aba3",
   "metadata": {},
   "outputs": [
    {
     "data": {
      "text/plain": [
       "Aparencia      0\n",
       "Temperatura    0\n",
       "Umidade        0\n",
       "Vento          0\n",
       "Jogar          0\n",
       "dtype: int64"
      ]
     },
     "execution_count": 96,
     "metadata": {},
     "output_type": "execute_result"
    }
   ],
   "source": [
    "#Validando se foi substituído\n",
    "dados.isnull().sum()"
   ]
  },
  {
   "cell_type": "code",
   "execution_count": 57,
   "id": "59c584ae-0d1a-4956-9ba7-eb0fbb0ce806",
   "metadata": {},
   "outputs": [
    {
     "data": {
      "text/plain": [
       "Aparencia\n",
       "chuva      5\n",
       "menos      1\n",
       "nublado    3\n",
       "sol        5\n",
       "dtype: int64"
      ]
     },
     "execution_count": 57,
     "metadata": {},
     "output_type": "execute_result"
    }
   ],
   "source": [
    "#Tratando valores não condizentes em 'Aparencia'\n",
    "grupo = dados.groupby(['Aparencia']).size()\n",
    "grupo"
   ]
  },
  {
   "cell_type": "code",
   "execution_count": 58,
   "id": "b0230291-b47c-4f93-b478-f2c690d1bef4",
   "metadata": {},
   "outputs": [
    {
     "data": {
      "text/plain": [
       "count        14\n",
       "unique        4\n",
       "top       chuva\n",
       "freq          5\n",
       "Name: Aparencia, dtype: object"
      ]
     },
     "execution_count": 58,
     "metadata": {},
     "output_type": "execute_result"
    }
   ],
   "source": [
    "dados['Aparencia'].describe()"
   ]
  },
  {
   "cell_type": "code",
   "execution_count": 60,
   "id": "c18040ab-5174-4e96-a271-e35cdcc18142",
   "metadata": {},
   "outputs": [],
   "source": [
    "dados.loc[dados['Aparencia'] ==  'menos', 'Aparencia'] = \"chuva\" #Trocando 'menos' por 'chuva', pois não existe a Aparencia 'menos'"
   ]
  },
  {
   "cell_type": "code",
   "execution_count": 61,
   "id": "b79c168a-f286-426b-b8db-fd94c036d2d5",
   "metadata": {},
   "outputs": [
    {
     "data": {
      "text/plain": [
       "Aparencia\n",
       "chuva      6\n",
       "nublado    3\n",
       "sol        5\n",
       "dtype: int64"
      ]
     },
     "execution_count": 61,
     "metadata": {},
     "output_type": "execute_result"
    }
   ],
   "source": [
    "grupo = dados.groupby(['Aparencia']).size()\n",
    "grupo"
   ]
  },
  {
   "cell_type": "code",
   "execution_count": 62,
   "id": "674b949d-a51f-4aa9-b79e-f30cf20a29fd",
   "metadata": {},
   "outputs": [
    {
     "data": {
      "text/plain": [
       "count      14.000000\n",
       "mean      155.571429\n",
       "std       306.433759\n",
       "min        64.000000\n",
       "25%        69.250000\n",
       "50%        73.500000\n",
       "75%        80.750000\n",
       "max      1220.000000\n",
       "Name: Temperatura, dtype: float64"
      ]
     },
     "execution_count": 62,
     "metadata": {},
     "output_type": "execute_result"
    }
   ],
   "source": [
    "#Verificando e tratando valores discrepantes de Temperatura, valores aceitáveis: -135 a 130 F\n",
    "dados['Temperatura'].describe()\n"
   ]
  },
  {
   "cell_type": "code",
   "execution_count": 64,
   "id": "9f123b9c-6252-45f3-b60d-f99a40692a0c",
   "metadata": {},
   "outputs": [
    {
     "data": {
      "text/plain": [
       "73.5"
      ]
     },
     "execution_count": 64,
     "metadata": {},
     "output_type": "execute_result"
    }
   ],
   "source": [
    "media = sts.median(dados['Temperatura'])\n",
    "media"
   ]
  },
  {
   "cell_type": "code",
   "execution_count": 73,
   "id": "9137767b-cf1b-4c40-82d5-c49cff56b75b",
   "metadata": {},
   "outputs": [],
   "source": [
    "dados.loc[(dados['Temperatura'] < -130)  |  (dados['Temperatura']  > 130)] = media    #subst valores pela média"
   ]
  },
  {
   "cell_type": "code",
   "execution_count": 72,
   "id": "91d8c095-ef04-4c94-8a7f-7ea7bb10a650",
   "metadata": {},
   "outputs": [
    {
     "data": {
      "text/html": [
       "<div>\n",
       "<style scoped>\n",
       "    .dataframe tbody tr th:only-of-type {\n",
       "        vertical-align: middle;\n",
       "    }\n",
       "\n",
       "    .dataframe tbody tr th {\n",
       "        vertical-align: top;\n",
       "    }\n",
       "\n",
       "    .dataframe thead th {\n",
       "        text-align: right;\n",
       "    }\n",
       "</style>\n",
       "<table border=\"1\" class=\"dataframe\">\n",
       "  <thead>\n",
       "    <tr style=\"text-align: right;\">\n",
       "      <th></th>\n",
       "      <th>Aparencia</th>\n",
       "      <th>Temperatura</th>\n",
       "      <th>Umidade</th>\n",
       "      <th>Vento</th>\n",
       "      <th>Jogar</th>\n",
       "    </tr>\n",
       "  </thead>\n",
       "  <tbody>\n",
       "  </tbody>\n",
       "</table>\n",
       "</div>"
      ],
      "text/plain": [
       "Empty DataFrame\n",
       "Columns: [Aparencia, Temperatura, Umidade, Vento, Jogar]\n",
       "Index: []"
      ]
     },
     "execution_count": 72,
     "metadata": {},
     "output_type": "execute_result"
    }
   ],
   "source": [
    "dados.loc[(dados['Temperatura'] < -130)  |  (dados['Temperatura']  > 130)] #validando se não existe valor fora do intervalo"
   ]
  },
  {
   "cell_type": "code",
   "execution_count": 67,
   "id": "82130d90-dfc2-4ca0-ad04-f4f46e23ffeb",
   "metadata": {},
   "outputs": [
    {
     "data": {
      "text/plain": [
       "Umidade\n",
       "65.0     1\n",
       "70.0     3\n",
       "75.0     1\n",
       "80.0     1\n",
       "85.0     1\n",
       "86.0     1\n",
       "90.0     2\n",
       "91.0     1\n",
       "95.0     1\n",
       "200.0    1\n",
       "dtype: int64"
      ]
     },
     "execution_count": 67,
     "metadata": {},
     "output_type": "execute_result"
    }
   ],
   "source": [
    "#Verificando e Trantando valores discrepantes de Umidade, valores aceitáveis: (0 a 100)\n",
    "grupo = dados.groupby(['Umidade']).size()\n",
    "grupo"
   ]
  },
  {
   "cell_type": "code",
   "execution_count": 75,
   "id": "797e8ae1-04af-4b4b-9a7d-bd1d1b8a3f2c",
   "metadata": {},
   "outputs": [
    {
     "data": {
      "text/plain": [
       "85.5"
      ]
     },
     "execution_count": 75,
     "metadata": {},
     "output_type": "execute_result"
    }
   ],
   "source": [
    "media = sts.median(dados['Umidade'])\n",
    "media"
   ]
  },
  {
   "cell_type": "code",
   "execution_count": 78,
   "id": "107175f7-0fab-47c6-a375-496fdaf1bffa",
   "metadata": {},
   "outputs": [],
   "source": [
    "dados.loc[(dados['Umidade'] < 0)  |  (dados['Umidade'] > 100)] = media"
   ]
  },
  {
   "cell_type": "code",
   "execution_count": 79,
   "id": "00924837-6245-4284-8f44-468015975a46",
   "metadata": {},
   "outputs": [
    {
     "data": {
      "text/html": [
       "<div>\n",
       "<style scoped>\n",
       "    .dataframe tbody tr th:only-of-type {\n",
       "        vertical-align: middle;\n",
       "    }\n",
       "\n",
       "    .dataframe tbody tr th {\n",
       "        vertical-align: top;\n",
       "    }\n",
       "\n",
       "    .dataframe thead th {\n",
       "        text-align: right;\n",
       "    }\n",
       "</style>\n",
       "<table border=\"1\" class=\"dataframe\">\n",
       "  <thead>\n",
       "    <tr style=\"text-align: right;\">\n",
       "      <th></th>\n",
       "      <th>Aparencia</th>\n",
       "      <th>Temperatura</th>\n",
       "      <th>Umidade</th>\n",
       "      <th>Vento</th>\n",
       "      <th>Jogar</th>\n",
       "    </tr>\n",
       "  </thead>\n",
       "  <tbody>\n",
       "  </tbody>\n",
       "</table>\n",
       "</div>"
      ],
      "text/plain": [
       "Empty DataFrame\n",
       "Columns: [Aparencia, Temperatura, Umidade, Vento, Jogar]\n",
       "Index: []"
      ]
     },
     "execution_count": 79,
     "metadata": {},
     "output_type": "execute_result"
    }
   ],
   "source": [
    "dados.loc[(dados['Umidade'] < 0)  |  (dados['Umidade'] > 100)]     #Validando se foi substituído"
   ]
  },
  {
   "cell_type": "code",
   "execution_count": 81,
   "id": "8cc4b57c-a193-490c-ac72-87b8d884014d",
   "metadata": {},
   "outputs": [
    {
     "data": {
      "text/plain": [
       "Jogar\n",
       "85.5    1\n",
       "nao     5\n",
       "sim     8\n",
       "dtype: int64"
      ]
     },
     "execution_count": 81,
     "metadata": {},
     "output_type": "execute_result"
    }
   ],
   "source": [
    "#Verificando e Trantando incoerentes de 'Jogar', valores aceitáveis: sim/não\n",
    "grupo= dados.groupby(['Jogar']).size()\n",
    "grupo"
   ]
  },
  {
   "cell_type": "code",
   "execution_count": 87,
   "id": "34efd5b7-6e73-489e-bfe2-6340ca74e182",
   "metadata": {},
   "outputs": [],
   "source": [
    "dados.loc[dados['Jogar'].isin([85.5])] = \"sim\"     #Se a coluna o valor de Jogar for [85.5], então Jogar = \"sim\""
   ]
  },
  {
   "cell_type": "code",
   "execution_count": 88,
   "id": "a79e62b1-ab6a-40f9-b33f-d2316f08bb3b",
   "metadata": {},
   "outputs": [
    {
     "data": {
      "text/html": [
       "<div>\n",
       "<style scoped>\n",
       "    .dataframe tbody tr th:only-of-type {\n",
       "        vertical-align: middle;\n",
       "    }\n",
       "\n",
       "    .dataframe tbody tr th {\n",
       "        vertical-align: top;\n",
       "    }\n",
       "\n",
       "    .dataframe thead th {\n",
       "        text-align: right;\n",
       "    }\n",
       "</style>\n",
       "<table border=\"1\" class=\"dataframe\">\n",
       "  <thead>\n",
       "    <tr style=\"text-align: right;\">\n",
       "      <th></th>\n",
       "      <th>Aparencia</th>\n",
       "      <th>Temperatura</th>\n",
       "      <th>Umidade</th>\n",
       "      <th>Vento</th>\n",
       "      <th>Jogar</th>\n",
       "    </tr>\n",
       "  </thead>\n",
       "  <tbody>\n",
       "  </tbody>\n",
       "</table>\n",
       "</div>"
      ],
      "text/plain": [
       "Empty DataFrame\n",
       "Columns: [Aparencia, Temperatura, Umidade, Vento, Jogar]\n",
       "Index: []"
      ]
     },
     "execution_count": 88,
     "metadata": {},
     "output_type": "execute_result"
    }
   ],
   "source": [
    "dados.loc[dados['Jogar'].isin([85.5])]       #Validando se foi substituído por 'sim'"
   ]
  },
  {
   "cell_type": "code",
   "execution_count": null,
   "id": "8804a783-2a1b-41fa-8178-e5c556e73323",
   "metadata": {},
   "outputs": [],
   "source": []
  }
 ],
 "metadata": {
  "kernelspec": {
   "display_name": "Python 3",
   "language": "python",
   "name": "python3"
  },
  "language_info": {
   "codemirror_mode": {
    "name": "ipython",
    "version": 3
   },
   "file_extension": ".py",
   "mimetype": "text/x-python",
   "name": "python",
   "nbconvert_exporter": "python",
   "pygments_lexer": "ipython3",
   "version": "3.8.8"
  }
 },
 "nbformat": 4,
 "nbformat_minor": 5
}
